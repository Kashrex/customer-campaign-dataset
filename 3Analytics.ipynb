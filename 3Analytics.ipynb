{
 "cells": [
  {
   "cell_type": "markdown",
   "metadata": {
    "application/vnd.databricks.v1+cell": {
     "cellMetadata": {},
     "inputWidgets": {},
     "nuid": "96816ed7-b08a-4ca3-abb9-f99880c3535d",
     "showTitle": false,
     "title": ""
    }
   },
   "source": [
    "## Overview\n",
    "\n",
    "This notebook will show you how to create and query a table or DataFrame that you uploaded to DBFS. [DBFS](https://docs.databricks.com/user-guide/dbfs-databricks-file-system.html) is a Databricks File System that allows you to store data for querying inside of Databricks. This notebook assumes that you have a file already inside of DBFS that you would like to read from.\n",
    "\n",
    "This notebook is written in **Python** so the default cell type is Python. However, you can use different languages by using the `%LANGUAGE` syntax. Python, Scala, SQL, and R are all supported."
   ]
  },
  {
   "cell_type": "code",
   "execution_count": 0,
   "metadata": {
    "application/vnd.databricks.v1+cell": {
     "cellMetadata": {},
     "inputWidgets": {},
     "nuid": "157a6ce0-8891-4a26-b5b1-2fa7db9e27bf",
     "showTitle": false,
     "title": ""
    }
   },
   "outputs": [],
   "source": [
    "File uploaded to /FileStore/tables/campaign.csv\n",
    "File uploaded to /FileStore/tables/campaign_response.csv\n",
    "File uploaded to /FileStore/tables/campaign_results.csv\n",
    "File uploaded to /FileStore/tables/customer.cs"
   ]
  },
  {
   "cell_type": "code",
   "execution_count": 0,
   "metadata": {
    "application/vnd.databricks.v1+cell": {
     "cellMetadata": {
      "byteLimit": 2048000,
      "rowLimit": 10000
     },
     "inputWidgets": {},
     "nuid": "f3ebcaa3-8ac6-4c32-8826-2a3179bf097d",
     "showTitle": false,
     "title": ""
    }
   },
   "outputs": [],
   "source": [
    "from pyspark.sql import SparkSession\n",
    "from pyspark.sql.types import *\n",
    "from pyspark.sql.functions import *"
   ]
  },
  {
   "cell_type": "code",
   "execution_count": 0,
   "metadata": {
    "application/vnd.databricks.v1+cell": {
     "cellMetadata": {
      "byteLimit": 2048000,
      "rowLimit": 10000
     },
     "inputWidgets": {},
     "nuid": "e4d46776-c431-4e7d-8f49-9d70f6e0be02",
     "showTitle": false,
     "title": ""
    }
   },
   "outputs": [
    {
     "output_type": "stream",
     "name": "stdout",
     "output_type": "stream",
     "text": [
      "root\n |-- customer_id: integer (nullable = true)\n |-- has_credit_card: string (nullable = true)\n |-- has_checking_account: string (nullable = true)\n |-- has_debit_account: string (nullable = true)\n |-- state: string (nullable = true)\n |-- city: string (nullable = true)\n |-- gender: string (nullable = true)\n |-- age: integer (nullable = true)\n |-- education_level: string (nullable = true)\n |-- visits_last_3_months: integer (nullable = true)\n |-- visits_last_12_months: integer (nullable = true)\n\n+-----------+---------------+--------------------+-----------------+--------+-------------+------+---+---------------+--------------------+---------------------+\n|customer_id|has_credit_card|has_checking_account|has_debit_account|   state|         city|gender|age|education_level|visits_last_3_months|visits_last_12_months|\n+-----------+---------------+--------------------+-----------------+--------+-------------+------+---+---------------+--------------------+---------------------+\n|          1|          false|               false|            false| Georgia|     Marietta|Female| 21|    high_school|                   9|                   61|\n|          2|          false|                true|            false|New York|New York City|  Male| 28|    high_school|                   3|                   60|\n|          3|          false|                true|            false|Illinois|      Chicago|  Male| 24|            phd|                  10|                   73|\n|          4|          false|               false|            false|   Texas|   Fort Worth|Female| 29|    high_school|                   0|                   41|\n|          5|           true|                true|             true|    Ohio|     Hamilton|Female| 30|      bachelors|                   6|                   99|\n+-----------+---------------+--------------------+-----------------+--------+-------------+------+---+---------------+--------------------+---------------------+\nonly showing top 5 rows\n\n"
     ]
    }
   ],
   "source": [
    "# Define schema for customer\n",
    "customer_schema = StructType([\n",
    "    StructField(\"customer_id\", IntegerType(), True),\n",
    "    StructField(\"has_credit_card\", StringType(), True),\n",
    "    StructField(\"has_checking_account\", StringType(), True),\n",
    "    StructField(\"has_debit_account\", StringType(), True),\n",
    "    StructField(\"state\", StringType(), True),\n",
    "    StructField(\"city\", StringType(), True),\n",
    "    StructField(\"gender\", StringType(), True),\n",
    "    StructField(\"age\", IntegerType(), True),\n",
    "    StructField(\"education_level\", StringType(), True),\n",
    "    StructField(\"visits_last_3_months\", IntegerType(), True),\n",
    "    StructField(\"visits_last_12_months\", IntegerType(), True)\n",
    "])\n",
    "\n",
    "customer_path = '/FileStore/tables/customer.csv'\n",
    "customer_df = spark.read.format('csv').option('header', 'true').option('inferSchema', 'false').schema(customer_schema).load(customer_path)\n",
    "\n",
    "customer_df.printSchema()\n",
    "\n",
    "customer_df.show(5)"
   ]
  },
  {
   "cell_type": "code",
   "execution_count": 0,
   "metadata": {
    "application/vnd.databricks.v1+cell": {
     "cellMetadata": {
      "byteLimit": 2048000,
      "rowLimit": 10000
     },
     "inputWidgets": {},
     "nuid": "db90a32d-fa81-44ed-bc95-f8684e5e635a",
     "showTitle": false,
     "title": ""
    }
   },
   "outputs": [
    {
     "output_type": "stream",
     "name": "stdout",
     "output_type": "stream",
     "text": [
      "root\n |-- customer_id: integer (nullable = true)\n |-- campaign_id: integer (nullable = true)\n |-- num_products_before_campaign: integer (nullable = true)\n |-- num_products_after_campaign: integer (nullable = true)\n |-- new_credit_application_received: integer (nullable = true)\n\n+-----------+-----------+----------------------------+---------------------------+-------------------------------+\n|customer_id|campaign_id|num_products_before_campaign|num_products_after_campaign|new_credit_application_received|\n+-----------+-----------+----------------------------+---------------------------+-------------------------------+\n|        683|          2|                           3|                         83|                              1|\n|        942|          1|                           4|                         57|                              0|\n|        462|          2|                           3|                         25|                              0|\n|        942|          3|                           3|                         26|                              0|\n|        417|          3|                           1|                         82|                              0|\n+-----------+-----------+----------------------------+---------------------------+-------------------------------+\nonly showing top 5 rows\n\n"
     ]
    }
   ],
   "source": [
    "# Define schema for campaign result\n",
    "campaign_results_schema = StructType([\n",
    "    StructField(\"customer_id\", IntegerType(), True),\n",
    "    StructField(\"campaign_id\", IntegerType(), True),\n",
    "    StructField(\"num_products_before_campaign\", IntegerType(), True),\n",
    "    StructField(\"num_products_after_campaign\", IntegerType(), True),\n",
    "    StructField(\"new_credit_application_received\", IntegerType(), True)\n",
    "])\n",
    "\n",
    "campaign_results_path = '/FileStore/tables/campaign_results.csv'\n",
    "campaign_results_df = spark.read.format('csv').option('header', 'true').option('inferSchema', 'false')\\\n",
    "    .schema(campaign_results_schema)\\\n",
    "    .load(campaign_results_path)\n",
    "\n",
    "campaign_results_df.printSchema()\n",
    "\n",
    "campaign_results_df.show(5)"
   ]
  },
  {
   "cell_type": "code",
   "execution_count": 0,
   "metadata": {
    "application/vnd.databricks.v1+cell": {
     "cellMetadata": {
      "byteLimit": 2048000,
      "rowLimit": 10000
     },
     "inputWidgets": {},
     "nuid": "884dd019-0ee6-452b-9de2-4f23bd716281",
     "showTitle": false,
     "title": ""
    }
   },
   "outputs": [
    {
     "output_type": "stream",
     "name": "stdout",
     "output_type": "stream",
     "text": [
      "root\n |-- campaign_id: integer (nullable = true)\n |-- customer_id: integer (nullable = true)\n |-- response_received_in_24_hrs: integer (nullable = true)\n |-- response_received_after_24_hrs: integer (nullable = true)\n\n+-----------+-----------+---------------------------+------------------------------+\n|campaign_id|customer_id|response_received_in_24_hrs|response_received_after_24_hrs|\n+-----------+-----------+---------------------------+------------------------------+\n|          2|        483|                          0|                             0|\n|          4|        434|                          0|                             0|\n|          4|        472|                          1|                             1|\n|          4|        385|                          0|                             1|\n|          2|        400|                          1|                             0|\n+-----------+-----------+---------------------------+------------------------------+\nonly showing top 5 rows\n\n"
     ]
    }
   ],
   "source": [
    "# Define schema for campaign response\n",
    "campaign_response_schema = StructType([\n",
    "    StructField(\"campaign_id\", IntegerType(), True),\n",
    "    StructField(\"customer_id\", IntegerType(), True),\n",
    "    StructField(\"response_received_in_24_hrs\", IntegerType(), True),\n",
    "    StructField(\"response_received_after_24_hrs\", IntegerType(), True),\n",
    "])\n",
    "\n",
    "campaign_response_path = '/FileStore/tables/campaign_response.csv'\n",
    "campaign_response_df = spark.read.format('csv').option('header', 'true').option('inferSchema', 'false')\\\n",
    "    .schema(campaign_response_schema)\\\n",
    "    .load(campaign_response_path)\n",
    "\n",
    "campaign_response_df.printSchema()\n",
    "\n",
    "campaign_response_df.show(5)"
   ]
  },
  {
   "cell_type": "code",
   "execution_count": 0,
   "metadata": {
    "application/vnd.databricks.v1+cell": {
     "cellMetadata": {
      "byteLimit": 2048000,
      "rowLimit": 10000
     },
     "inputWidgets": {},
     "nuid": "532a6206-80f1-419f-9a02-be6a19558094",
     "showTitle": false,
     "title": ""
    }
   },
   "outputs": [
    {
     "output_type": "stream",
     "name": "stdout",
     "output_type": "stream",
     "text": [
      "root\n |-- campaign_id: integer (nullable = true)\n |-- details: string (nullable = true)\n\n+-----------+----------------------------------------------------+\n|campaign_id|details                                             |\n+-----------+----------------------------------------------------+\n|1          |Call us today at 1-800-9090090 (get $100 gift card )|\n|2          |Send us a text at 24567 ( 10000 points)             |\n|3          |Talk to us to win a $100 gift card                  |\n|4          |Send us an email                                    |\n+-----------+----------------------------------------------------+\n\n"
     ]
    }
   ],
   "source": [
    "# Define schema for campaign info\n",
    "campaign_schema = StructType([\n",
    "    StructField(\"campaign_id\", IntegerType(), True),\n",
    "    StructField(\"details\", StringType(), True)\n",
    "])\n",
    "\n",
    "campaign_path = '/FileStore/tables/campaign.csv'\n",
    "campaign_df = spark.read.format('csv').option('header', 'true').option('inferSchema', 'false').schema(campaign_schema).load(campaign_path)\n",
    "\n",
    "campaign_df.printSchema()\n",
    "\n",
    "campaign_df.show(truncate=0)\n"
   ]
  },
  {
   "cell_type": "code",
   "execution_count": 0,
   "metadata": {
    "application/vnd.databricks.v1+cell": {
     "cellMetadata": {
      "byteLimit": 2048000,
      "rowLimit": 10000
     },
     "inputWidgets": {},
     "nuid": "15e730f0-b202-45d3-85cb-554fcd52382e",
     "showTitle": false,
     "title": ""
    }
   },
   "outputs": [
    {
     "output_type": "stream",
     "name": "stdout",
     "output_type": "stream",
     "text": [
      "+-----------+---+--------------------+---------------+------+\n|customer_id|age|                city|has_credit_card|gender|\n+-----------+---+--------------------+---------------+------+\n|          1| 21|            Marietta|          false|Female|\n|          2| 28|       New York City|          false|  Male|\n|          5| 30|            Hamilton|           true|Female|\n|          5| 30|            Hamilton|           true|Female|\n|          5| 30|            Hamilton|           true|Female|\n|          5| 30|            Hamilton|           true|Female|\n|          6| 25|                Reno|          false|Female|\n|          8| 27|Hot Springs Natio...|           true|  Male|\n|         10| 21|            Sterling|          false|  Male|\n|         10| 21|            Sterling|          false|  Male|\n|         10| 21|            Sterling|          false|  Male|\n|         12| 24|            Santa Fe|           true|Female|\n|         13| 28|           Las Vegas|          false|  Male|\n|         13| 28|           Las Vegas|          false|  Male|\n|         17| 23|          Fort Wayne|          false|  Male|\n|         17| 23|          Fort Wayne|          false|  Male|\n|         19| 23|           Arlington|          false|  Male|\n|         21| 23|         Terre Haute|           true|Female|\n|         24| 21|             Buffalo|          false|Female|\n|         24| 21|             Buffalo|          false|Female|\n+-----------+---+--------------------+---------------+------+\nonly showing top 20 rows\n\n"
     ]
    }
   ],
   "source": [
    "# Defining a new DataFrame containing customers who responded to any campaign\n",
    "responded_customers_df = campaign_response_df.filter(\n",
    "    (campaign_response_df[\"response_received_in_24_hrs\"] == 1) |\n",
    "    (campaign_response_df[\"response_received_after_24_hrs\"] == 1)\n",
    ")\n",
    "\n",
    "# Joining with the customer_df to get customer details\n",
    "top_customers_df = responded_customers_df.join(customer_df, on=\"customer_id\", how=\"inner\")\n",
    "\n",
    "\n",
    "# Selecting the desired columns\n",
    "output1_df = top_customers_df.select(\n",
    "    \"customer_id\",\n",
    "    \"age\",\n",
    "    \"city\",\n",
    "    \"has_credit_card\",\n",
    "    \"gender\"\n",
    ")\n",
    "\n",
    "output1_df.show()"
   ]
  },
  {
   "cell_type": "code",
   "execution_count": 0,
   "metadata": {
    "application/vnd.databricks.v1+cell": {
     "cellMetadata": {
      "byteLimit": 2048000,
      "rowLimit": 10000
     },
     "inputWidgets": {},
     "nuid": "bef0964c-4399-45e3-b814-e64d342498b6",
     "showTitle": false,
     "title": ""
    }
   },
   "outputs": [
    {
     "output_type": "stream",
     "name": "stdout",
     "output_type": "stream",
     "text": [
      "+-----------+-----------+---------------------------+------------------------------+---------------+--------------------+-----------------+--------+-------------+------+---+---------------+--------------------+---------------------+\n|customer_id|campaign_id|response_received_in_24_hrs|response_received_after_24_hrs|has_credit_card|has_checking_account|has_debit_account|   state|         city|gender|age|education_level|visits_last_3_months|visits_last_12_months|\n+-----------+-----------+---------------------------+------------------------------+---------------+--------------------+-----------------+--------+-------------+------+---+---------------+--------------------+---------------------+\n|         53|          1|                          0|                             1|          false|                true|            false|New York|New York City|Female| 23|    high_school|                   2|                   90|\n|         53|          2|                          0|                             1|          false|                true|            false|New York|New York City|Female| 23|    high_school|                   2|                   90|\n|        134|          1|                          0|                             1|           true|                true|            false|New York|New York City|Female| 26|            phd|                   0|                   66|\n|        134|          3|                          1|                             0|           true|                true|            false|New York|New York City|Female| 26|            phd|                   0|                   66|\n|        134|          4|                          1|                             0|           true|                true|            false|New York|New York City|Female| 26|            phd|                   0|                   66|\n|        399|          4|                          1|                             1|           true|               false|            false|New York|New York City|Female| 20|    high_school|                  10|                   68|\n|        803|          2|                          1|                             1|          false|               false|            false|New York|New York City|Female| 21|    high_school|                   6|                   73|\n|        891|          3|                          1|                             0|           true|               false|            false|New York|New York City|Female| 19|            phd|                   4|                   46|\n|        891|          4|                          1|                             1|           true|               false|            false|New York|New York City|Female| 19|            phd|                   4|                   46|\n+-----------+-----------+---------------------------+------------------------------+---------------+--------------------+-----------------+--------+-------------+------+---+---------------+--------------------+---------------------+\n\n"
     ]
    }
   ],
   "source": [
    "# Filtering for female customers in New York City\n",
    "filtered_top_customers_df = top_customers_df.filter(\n",
    "    (top_customers_df[\"gender\"] == \"Female\") &\n",
    "    (top_customers_df[\"city\"] == \"New York City\")\n",
    ")\n",
    "\n",
    "filtered_top_customers_df.show()\n"
   ]
  },
  {
   "cell_type": "code",
   "execution_count": 0,
   "metadata": {
    "application/vnd.databricks.v1+cell": {
     "cellMetadata": {
      "byteLimit": 2048000,
      "rowLimit": 10000
     },
     "inputWidgets": {},
     "nuid": "db6f38c4-8dd5-4bef-98cb-3c8b881805dd",
     "showTitle": false,
     "title": ""
    }
   },
   "outputs": [
    {
     "output_type": "stream",
     "name": "stdout",
     "output_type": "stream",
     "text": [
      "+-----------+-----------+------------------+---------------------+\n|customer_id|campaign_id|response_in_24_hrs|response_after_24_hrs|\n+-----------+-----------+------------------+---------------------+\n|        399|          4|                 1|                    1|\n|        803|          2|                 1|                    1|\n|        891|          4|                 1|                    1|\n|        134|          1|                 0|                    1|\n|         53|          1|                 0|                    1|\n|        134|          3|                 1|                    0|\n|         53|          2|                 0|                    1|\n|        891|          3|                 1|                    0|\n|        134|          4|                 1|                    0|\n+-----------+-----------+------------------+---------------------+\n\n"
     ]
    }
   ],
   "source": [
    "\n",
    "# Selecting top 50 customers based on their response count\n",
    "top_50_female_nyc_customers = filtered_top_customers_df \\\n",
    "    .groupBy(\"customer_id\",\"campaign_id\") \\\n",
    "    .agg({\"response_received_in_24_hrs\": \"sum\", \"response_received_after_24_hrs\": \"sum\"}) \\\n",
    "    .withColumnRenamed(\"sum(response_received_in_24_hrs)\", \"response_in_24_hrs\") \\\n",
    "    .withColumnRenamed(\"sum(response_received_after_24_hrs)\", \"response_after_24_hrs\") \\\n",
    "    .orderBy((col(\"response_in_24_hrs\") + col(\"response_after_24_hrs\")).desc()) \\\n",
    "    .limit(50)\n",
    "\n",
    "top_50_female_nyc_customers.show()\n"
   ]
  },
  {
   "cell_type": "code",
   "execution_count": 0,
   "metadata": {
    "application/vnd.databricks.v1+cell": {
     "cellMetadata": {
      "byteLimit": 2048000,
      "rowLimit": 10000
     },
     "inputWidgets": {},
     "nuid": "0a49fd44-2a6a-43f2-aefc-1335f803f6ba",
     "showTitle": false,
     "title": ""
    }
   },
   "outputs": [
    {
     "output_type": "stream",
     "name": "stdout",
     "output_type": "stream",
     "text": [
      "+-----------+-----------+---------------+--------------------+-----------------+--------+--------------------+------+---+---------------+--------------------+---------------------+---------------------------+------------------------------+--------------------+-----------+------------------+---------------------+\n|campaign_id|customer_id|has_credit_card|has_checking_account|has_debit_account|   state|                city|gender|age|education_level|visits_last_3_months|visits_last_12_months|response_received_in_24_hrs|response_received_after_24_hrs|             details|customer_id|response_in_24_hrs|response_after_24_hrs|\n+-----------+-----------+---------------+--------------------+-----------------+--------+--------------------+------+---+---------------+--------------------+---------------------+---------------------------+------------------------------+--------------------+-----------+------------------+---------------------+\n|          4|          1|          false|               false|            false| Georgia|            Marietta|Female| 21|    high_school|                   9|                   61|                          1|                             1|    Send us an email|        134|                 1|                    0|\n|          4|          1|          false|               false|            false| Georgia|            Marietta|Female| 21|    high_school|                   9|                   61|                          1|                             1|    Send us an email|        891|                 1|                    1|\n|          4|          1|          false|               false|            false| Georgia|            Marietta|Female| 21|    high_school|                   9|                   61|                          1|                             1|    Send us an email|        399|                 1|                    1|\n|          2|          2|          false|                true|            false|New York|       New York City|  Male| 28|    high_school|                   3|                   60|                          0|                             1|Send us a text at...|         53|                 0|                    1|\n|          2|          2|          false|                true|            false|New York|       New York City|  Male| 28|    high_school|                   3|                   60|                          0|                             1|Send us a text at...|        803|                 1|                    1|\n|          1|          5|           true|                true|             true|    Ohio|            Hamilton|Female| 30|      bachelors|                   6|                   99|                          1|                             0|Call us today at ...|         53|                 0|                    1|\n|          1|          5|           true|                true|             true|    Ohio|            Hamilton|Female| 30|      bachelors|                   6|                   99|                          1|                             0|Call us today at ...|        134|                 0|                    1|\n|          2|          5|           true|                true|             true|    Ohio|            Hamilton|Female| 30|      bachelors|                   6|                   99|                          0|                             1|Send us a text at...|         53|                 0|                    1|\n|          2|          5|           true|                true|             true|    Ohio|            Hamilton|Female| 30|      bachelors|                   6|                   99|                          0|                             1|Send us a text at...|        803|                 1|                    1|\n|          3|          5|           true|                true|             true|    Ohio|            Hamilton|Female| 30|      bachelors|                   6|                   99|                          1|                             0|Talk to us to win...|        891|                 1|                    0|\n|          3|          5|           true|                true|             true|    Ohio|            Hamilton|Female| 30|      bachelors|                   6|                   99|                          1|                             0|Talk to us to win...|        134|                 1|                    0|\n|          2|          5|           true|                true|             true|    Ohio|            Hamilton|Female| 30|      bachelors|                   6|                   99|                          1|                             0|Send us a text at...|         53|                 0|                    1|\n|          2|          5|           true|                true|             true|    Ohio|            Hamilton|Female| 30|      bachelors|                   6|                   99|                          1|                             0|Send us a text at...|        803|                 1|                    1|\n|          3|          6|          false|                true|             true|  Nevada|                Reno|Female| 25|      bachelors|                   0|                  100|                          1|                             1|Talk to us to win...|        891|                 1|                    0|\n|          3|          6|          false|                true|             true|  Nevada|                Reno|Female| 25|      bachelors|                   0|                  100|                          1|                             1|Talk to us to win...|        134|                 1|                    0|\n|          2|          7|          false|               false|             true|   Texas|             Houston|  Male| 29|      bachelors|                  10|                   81|                          0|                             0|Send us a text at...|         53|                 0|                    1|\n|          2|          7|          false|               false|             true|   Texas|             Houston|  Male| 29|      bachelors|                  10|                   81|                          0|                             0|Send us a text at...|        803|                 1|                    1|\n|          3|          7|          false|               false|             true|   Texas|             Houston|  Male| 29|      bachelors|                  10|                   81|                          0|                             0|Talk to us to win...|        891|                 1|                    0|\n|          3|          7|          false|               false|             true|   Texas|             Houston|  Male| 29|      bachelors|                  10|                   81|                          0|                             0|Talk to us to win...|        134|                 1|                    0|\n|          1|          8|           true|               false|             true|Arkansas|Hot Springs Natio...|  Male| 27|    high_school|                   0|                   51|                          0|                             1|Call us today at ...|         53|                 0|                    1|\n+-----------+-----------+---------------+--------------------+-----------------+--------+--------------------+------+---+---------------+--------------------+---------------------+---------------------------+------------------------------+--------------------+-----------+------------------+---------------------+\nonly showing top 20 rows\n\n"
     ]
    }
   ],
   "source": [
    "customers_df = customer_df.join(campaign_response_df, on=\"customer_id\", how=\"inner\")\n",
    "customers_name_df = customers_df.join(campaign_df, on=\"campaign_id\", how=\"inner\")\n",
    "output2_df = customers_name_df.join(top_50_female_nyc_customers, on=\"campaign_id\", how=\"left\")\n",
    "\n",
    "output2_df.show()"
   ]
  },
  {
   "cell_type": "code",
   "execution_count": 0,
   "metadata": {
    "application/vnd.databricks.v1+cell": {
     "cellMetadata": {
      "byteLimit": 2048000,
      "rowLimit": 10000
     },
     "inputWidgets": {},
     "nuid": "83b70807-f0cc-47ce-8be8-7371af3f4252",
     "showTitle": false,
     "title": ""
    }
   },
   "outputs": [
    {
     "output_type": "stream",
     "name": "stdout",
     "output_type": "stream",
     "text": [
      "+-----------+-----------+---------------+--------------------+-----------------+--------+-------------+------+---+---------------+--------------------+---------------------+---------------------------+------------------------------+--------------------+---------------+-----+\n|campaign_id|customer_id|has_credit_card|has_checking_account|has_debit_account|   state|         city|gender|age|education_level|visits_last_3_months|visits_last_12_months|response_received_in_24_hrs|response_received_after_24_hrs|             details|education_level|count|\n+-----------+-----------+---------------+--------------------+-----------------+--------+-------------+------+---+---------------+--------------------+---------------------+---------------------------+------------------------------+--------------------+---------------+-----+\n|          4|          1|          false|               false|            false| Georgia|     Marietta|Female| 21|    high_school|                   9|                   61|                          1|                             1|    Send us an email|            phd|   47|\n|          4|          1|          false|               false|            false| Georgia|     Marietta|Female| 21|    high_school|                   9|                   61|                          1|                             1|    Send us an email|    high_school|   50|\n|          4|          1|          false|               false|            false| Georgia|     Marietta|Female| 21|    high_school|                   9|                   61|                          1|                             1|    Send us an email|        masters|   45|\n|          4|          1|          false|               false|            false| Georgia|     Marietta|Female| 21|    high_school|                   9|                   61|                          1|                             1|    Send us an email|      bachelors|   50|\n|          2|          2|          false|                true|            false|New York|New York City|  Male| 28|    high_school|                   3|                   60|                          0|                             1|Send us a text at...|    high_school|   41|\n|          2|          2|          false|                true|            false|New York|New York City|  Male| 28|    high_school|                   3|                   60|                          0|                             1|Send us a text at...|            phd|   50|\n|          2|          2|          false|                true|            false|New York|New York City|  Male| 28|    high_school|                   3|                   60|                          0|                             1|Send us a text at...|      bachelors|   49|\n|          2|          2|          false|                true|            false|New York|New York City|  Male| 28|    high_school|                   3|                   60|                          0|                             1|Send us a text at...|        masters|   51|\n|          1|          5|           true|                true|             true|    Ohio|     Hamilton|Female| 30|      bachelors|                   6|                   99|                          1|                             0|Call us today at ...|            phd|   40|\n|          1|          5|           true|                true|             true|    Ohio|     Hamilton|Female| 30|      bachelors|                   6|                   99|                          1|                             0|Call us today at ...|        masters|   49|\n|          1|          5|           true|                true|             true|    Ohio|     Hamilton|Female| 30|      bachelors|                   6|                   99|                          1|                             0|Call us today at ...|    high_school|   45|\n|          1|          5|           true|                true|             true|    Ohio|     Hamilton|Female| 30|      bachelors|                   6|                   99|                          1|                             0|Call us today at ...|      bachelors|   45|\n|          2|          5|           true|                true|             true|    Ohio|     Hamilton|Female| 30|      bachelors|                   6|                   99|                          0|                             1|Send us a text at...|    high_school|   41|\n|          2|          5|           true|                true|             true|    Ohio|     Hamilton|Female| 30|      bachelors|                   6|                   99|                          0|                             1|Send us a text at...|            phd|   50|\n|          2|          5|           true|                true|             true|    Ohio|     Hamilton|Female| 30|      bachelors|                   6|                   99|                          0|                             1|Send us a text at...|      bachelors|   49|\n|          2|          5|           true|                true|             true|    Ohio|     Hamilton|Female| 30|      bachelors|                   6|                   99|                          0|                             1|Send us a text at...|        masters|   51|\n|          3|          5|           true|                true|             true|    Ohio|     Hamilton|Female| 30|      bachelors|                   6|                   99|                          1|                             0|Talk to us to win...|        masters|   45|\n|          3|          5|           true|                true|             true|    Ohio|     Hamilton|Female| 30|      bachelors|                   6|                   99|                          1|                             0|Talk to us to win...|    high_school|   50|\n|          3|          5|           true|                true|             true|    Ohio|     Hamilton|Female| 30|      bachelors|                   6|                   99|                          1|                             0|Talk to us to win...|      bachelors|   33|\n|          3|          5|           true|                true|             true|    Ohio|     Hamilton|Female| 30|      bachelors|                   6|                   99|                          1|                             0|Talk to us to win...|            phd|   42|\n+-----------+-----------+---------------+--------------------+-----------------+--------+-------------+------+---+---------------+--------------------+---------------------+---------------------------+------------------------------+--------------------+---------------+-----+\nonly showing top 20 rows\n\n"
     ]
    }
   ],
   "source": [
    "# Joining\n",
    "responded_education_df = responded_customers_df.join(customer_df, on=\"customer_id\", how=\"inner\")\n",
    "\n",
    "# Group by education level and count the number of customers per level\n",
    "customers_per_education_level = responded_education_df \\\n",
    "    .groupBy(\"education_level\",\"campaign_id\") \\\n",
    "    .count() \\\n",
    "    .orderBy(\"count\", ascending=False)\n",
    "\n",
    "output3_df = customers_name_df.join(customers_per_education_level, on=\"campaign_id\", how=\"left\")\n",
    "\n",
    "output3_df.show()"
   ]
  }
 ],
 "metadata": {
  "application/vnd.databricks.v1+notebook": {
   "dashboards": [],
   "language": "python",
   "notebookMetadata": {
    "pythonIndentUnit": 4
   },
   "notebookName": "3Analytics",
   "widgets": {}
  }
 },
 "nbformat": 4,
 "nbformat_minor": 0
}
