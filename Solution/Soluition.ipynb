{
 "cells": [
  {
   "cell_type": "code",
   "execution_count": null,
   "id": "7b06e54a",
   "metadata": {},
   "outputs": [],
   "source": [
    "from pyspark.sql import SparkSession\n",
    "from pyspark.sql.types import *\n",
    "\n",
    "# Create Spark session\n",
    "spark = SparkSession.builder \\\n",
    "    .appName(\"3Analytics\") \\\n",
    "    .getOrCreate()"
   ]
  },
  {
   "cell_type": "code",
   "execution_count": null,
   "id": "3b297b8e",
   "metadata": {},
   "outputs": [],
   "source": [
    "# Define schema for customer\n",
    "customer_schema = StructType([\n",
    "    StructField(\"customer_id\", IntegerType(), True),\n",
    "    StructField(\"has_credit_card\", StringType(), True),\n",
    "    StructField(\"has_checking_account\", StringType(), True),\n",
    "    StructField(\"has_debit_account\", StringType(), True),\n",
    "    StructField(\"state\", StringType(), True),\n",
    "    StructField(\"city\", StringType(), True),\n",
    "    StructField(\"gender\", StringType(), True)\n",
    "    StructField(\"age\", IntegerType(), True),\n",
    "    StructField(\"education_level\", StringType(), True),\n",
    "    StructField(\"visits_last_3_months\", IntegerType(), True)\n",
    "    StructField(\"visits_last_12_months\", IntegerType(), True)\n",
    "])\n",
    "\n",
    "customer_path = 'C:\\\\Users\\\\aakas\\\\Desktop\\\\Solution\\\\input_data\\\\customer.csv'\n",
    "customer_df = spark.read.format('csv').option('header', 'true').option('inferSchema', 'false').schema(customer_schema).load(customer_path)\n",
    "\n",
    "df.printSchema()\n",
    "\n",
    "df.show(5)"
   ]
  },
  {
   "cell_type": "code",
   "execution_count": null,
   "id": "ebb54167",
   "metadata": {},
   "outputs": [],
   "source": [
    "# Define schema for campaign result\n",
    "campaign_results_schema = StructType([\n",
    "    StructField(\"customer_id\", IntegerType(), True),\n",
    "    StructField(\"campaign_id\", IntegerType(), True),\n",
    "    StructField(\"num_products_before_campaign\", IntegerType(), True),\n",
    "    StructField(\"num_products_after_campaign\", IntegerType(), True),\n",
    "    StructField(\"new_credit_application_received\", IntegerType(), True)\n",
    "])\n",
    "\n",
    "campaign_results_path = 'C:\\\\Users\\\\aakas\\\\Desktop\\\\Solution\\\\input_data\\\\campaign_results.csv'\n",
    "campaign_results_df = spark.read.format('csv').option('header', 'true').option('inferSchema', 'false').schema(campaign_results_schema).load(campaign_results_path)\n",
    "\n",
    "df.printSchema()\n",
    "\n",
    "df.show(5)"
   ]
  },
  {
   "cell_type": "code",
   "execution_count": null,
   "id": "5f48329f",
   "metadata": {},
   "outputs": [],
   "source": [
    "# Define schema for campaign response\n",
    "campaign_response_schema = StructType([\n",
    "    StructField(\"campaign_id\", IntegerType(), True),\n",
    "    StructField(\"customer_id\", IntegerType(), True),\n",
    "    StructField(\"response_received_in_24_hrs\", IntegerType(), True),\n",
    "    StructField(\"response_received_after_24_hrs\", IntegerType(), True),\n",
    "])\n",
    "\n",
    "campaign_response_path = 'C:\\\\Users\\\\aakas\\\\Desktop\\\\Solution\\\\input_data\\\\campaign_response.csv'\n",
    "campaign_response_df = spark.read.format('csv').option('header', 'true').option('inferSchema', 'false').schema(campaign_response_schema).load(campaign_response_path)\n",
    "\n",
    "df.printSchema()\n",
    "\n",
    "df.show(5)"
   ]
  },
  {
   "cell_type": "code",
   "execution_count": null,
   "id": "71df2021",
   "metadata": {},
   "outputs": [],
   "source": [
    "# Define schema for campaign info\n",
    "campaign_schema = StructType([\n",
    "    StructField(\"campaign_id\", IntegerType(), True),\n",
    "    StructField(\"details\", StringType(), True),\n",
    "])\n",
    "\n",
    "campaign_path = 'C:\\\\Users\\\\aakas\\\\Desktop\\\\Solution\\\\input_data\\\\campaign.csv'\n",
    "campaign_df = spark.read.format('csv').option('header', 'true').option('inferSchema', 'false').schema(campaign_schema).load(campaign_path)\n",
    "\n",
    "df.printSchema()\n",
    "\n",
    "df.show()"
   ]
  },
  {
   "cell_type": "markdown",
   "id": "e79e371c",
   "metadata": {},
   "source": [
    "### List of customers who responded to any capaign. Output Cols : Customer Name, age ,city, has credit card"
   ]
  },
  {
   "cell_type": "code",
   "execution_count": null,
   "id": "25fa4113",
   "metadata": {},
   "outputs": [],
   "source": [
    "# Defining a new DataFrame containing customers who responded to any campaign\n",
    "responded_customers_df = campaign_response_df.filter(\n",
    "    (campaign_response_df[\"response_received_in_24_hrs\"] == 1) |\n",
    "    (campaign_response_df[\"response_received_after_24_hrs\"] == 1)\n",
    ")\n",
    "\n",
    "# Joining with the customer_df to get customer details\n",
    "top_customers_df = responded_customers_df.join(customer_df, on=\"customer_id\", how=\"inner\")\n",
    "\n",
    "\n",
    "# Selecting the desired columns\n",
    "output1_df = top_customers_df.select(\n",
    "    \"customer_id\",\n",
    "    \"age\",\n",
    "    \"city\",\n",
    "    \"has_credit_card\"\n",
    ")\n",
    "\n",
    "output1_df.show()"
   ]
  },
  {
   "cell_type": "markdown",
   "id": "1b698f03",
   "metadata": {},
   "source": [
    "### Q2- Top 50 customers respoding to campaigns who are female and live in new york city. Output Cols: All customers columns and campaign name"
   ]
  },
  {
   "cell_type": "code",
   "execution_count": null,
   "id": "6e0478c7",
   "metadata": {},
   "outputs": [],
   "source": [
    "# Filtering for female customers in New York City\n",
    "filtered_top_customers_df = top_customers_df.filter(\n",
    "    (top_customers_df[\"gender\"] == \"female\") &\n",
    "    (top_customers_df[\"city\"] == \"New York City\")\n",
    ")\n",
    "\n",
    "# Selecting top 50 customers based on their response count\n",
    "top_50_female_nyc_customers = filtered_top_customers_df \\\n",
    "    .groupBy(\"customer_id\") \\\n",
    "    .agg({\"response_received_in_24_hrs\": \"sum\", \"response_received_after_24_hrs\": \"sum\"}) \\\n",
    "    .withColumnRenamed(\"sum(response_received_in_24_hrs)\", \"response_in_24_hrs\") \\\n",
    "    .withColumnRenamed(\"sum(response_received_after_24_hrs)\", \"resonse_after_24_hrs\") \\\n",
    "    .orderBy((col(\"response_in_24_hrs\") + col(\"response_after_24_hrs\")).desc()) \\\n",
    "    .limit(50)\n",
    "\n",
    "output2_df = customer_df.join(top_50_female_nyc_customers, on=\"campaign_id\", how=\"left\")\n",
    "\n",
    "output2_df.show()"
   ]
  },
  {
   "cell_type": "markdown",
   "id": "692c308b",
   "metadata": {},
   "source": [
    "### Q3: Identify how many customers exist per  education level who have responded to campains. Output Cols:All customer and campaign columns"
   ]
  },
  {
   "cell_type": "code",
   "execution_count": null,
   "id": "baaa9df7",
   "metadata": {},
   "outputs": [],
   "source": [
    "# Joining\n",
    "responded_education_df = responded_customers_df.join(customer_df, on=\"customer_id\", how=\"inner\")\n",
    "\n",
    "# Group by education level and count the number of customers per level\n",
    "customers_per_education_level = responded_education_df \\\n",
    "    .groupBy(\"education_level\") \\\n",
    "    .count() \\\n",
    "    .orderBy(\"count\", ascending=False)\n",
    "\n",
    "output3_df = customer_df.join(customers_per_education_level, on=\"campaign_id\", how=\"left\")\n",
    "\n",
    "output3_df.show()"
   ]
  }
 ],
 "metadata": {
  "kernelspec": {
   "display_name": "Python 3 (ipykernel)",
   "language": "python",
   "name": "python3"
  },
  "language_info": {
   "codemirror_mode": {
    "name": "ipython",
    "version": 3
   },
   "file_extension": ".py",
   "mimetype": "text/x-python",
   "name": "python",
   "nbconvert_exporter": "python",
   "pygments_lexer": "ipython3",
   "version": "3.10.9"
  }
 },
 "nbformat": 4,
 "nbformat_minor": 5
}
